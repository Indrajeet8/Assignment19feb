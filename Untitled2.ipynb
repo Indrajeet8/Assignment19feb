{
 "cells": [
  {
   "cell_type": "markdown",
   "id": "5d90402c-154e-448b-9b52-c7f5a8bbcdf3",
   "metadata": {},
   "source": [
    "Assignment -- 19feb "
   ]
  },
  {
   "cell_type": "markdown",
   "id": "fd0b7f07-00b2-4c28-bcb7-4c6ece3eb2cc",
   "metadata": {},
   "source": [
    "What is Flask Framework? What are the advantages of Flask Framework?Ques -1"
   ]
  },
  {
   "cell_type": "markdown",
   "id": "04fd2a8b-c9a8-49ac-ad29-cbb6d3cefc8b",
   "metadata": {},
   "source": [
    "#Flask is a web application framework written in Python. It was developed by Armin Ronacher, who led a team of international Python enthusiasts called Poocco.\n",
    "\n",
    "#Scalable. Size is everything, and Flask's status as a microframework means that you can use it to grow a tech project such as a web app incredibly quickly. ...\n",
    "Flexible. ...\n",
    "Easy to negotiate. ...\n",
    "Lightweight. ...\n",
    "Documentation. ...\n",
    "Not a lot of tools. ...\n",
    "Difficult to get familiar with a larger Flask app. ...\n",
    "Maintenance costs."
   ]
  },
  {
   "cell_type": "code",
   "execution_count": 2,
   "id": "ee7e3b7f-d830-4025-97c1-06585bd45d8a",
   "metadata": {},
   "outputs": [],
   "source": [
    "#Ques --2  Create a simple Flask application to display ‘Hello World!!’. Attach the screenshot of the output "
   ]
  },
  {
   "cell_type": "code",
   "execution_count": null,
   "id": "aae705d6-7da4-48e4-a405-1ee76dfd1d45",
   "metadata": {},
   "outputs": [],
   "source": []
  },
  {
   "cell_type": "code",
   "execution_count": null,
   "id": "a5b019d1-5a14-4752-8190-d54c652c561a",
   "metadata": {},
   "outputs": [],
   "source": []
  }
 ],
 "metadata": {
  "kernelspec": {
   "display_name": "Python 3 (ipykernel)",
   "language": "python",
   "name": "python3"
  },
  "language_info": {
   "codemirror_mode": {
    "name": "ipython",
    "version": 3
   },
   "file_extension": ".py",
   "mimetype": "text/x-python",
   "name": "python",
   "nbconvert_exporter": "python",
   "pygments_lexer": "ipython3",
   "version": "3.10.8"
  }
 },
 "nbformat": 4,
 "nbformat_minor": 5
}
